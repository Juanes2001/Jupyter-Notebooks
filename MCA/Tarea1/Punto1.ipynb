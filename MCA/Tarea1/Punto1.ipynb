{
 "cells": [
  {
   "cell_type": "markdown",
   "id": "82e0af5e-51f7-4339-9532-b558d619c4d5",
   "metadata": {},
   "source": [
    "# 1 . Desarrollo en bases bidimensionales\n",
    "\n",
    "Sean los operadores $\\hat{A}$ y $\\hat{B}$ definidos en el espacio desarrollado por los vectores {$|u_{1}⟩, |u_{2}⟩$} como:\n",
    "\n",
    "$\\hat{A} = −|u_{1}⟩⟨u_{2}| − |u_{2}⟩⟨u_{1}|$\n",
    "\n",
    "y\n",
    "\n",
    "$\\hat{B} = 3|u_{1}⟩⟨u_{1}| + 3|u_{2}⟩⟨u_{2}| − |u_{1}⟩⟨u_{2}| − |u_{2}⟩⟨u_{1}|$\n",
    "\n",
    "Compruebe si los operadores conmutan aplicando el conmutador $[\\hat{A}, \\hat{A}]$ sobre una función cualquiera\n",
    "$|Ψ⟩ = C_{1}|u_{1}⟩ + C_{2}|u_{2}⟩$. Encuentre los autovalores del operador $\\hat{B}$, {$|ψ_{1}⟩, |ψ_{2}⟩$}, y compruebe que\n",
    "{$\\hat{A}|ψ1⟩, \\hat{A}|ψ2⟩$} son también autovectores de $\\hat{B}$. ¿Por qué deberían ser los autovectores de $\\hat{A}$ también\n",
    "autovectores de $\\hat{A}$? Compruébelo."
   ]
  },
  {
   "cell_type": "code",
   "execution_count": null,
   "id": "355dcab6-a327-4dbe-9307-002829e7ecac",
   "metadata": {},
   "outputs": [],
   "source": []
  }
 ],
 "metadata": {
  "kernelspec": {
   "display_name": "Python [conda env:base] *",
   "language": "python",
   "name": "conda-base-py"
  },
  "language_info": {
   "codemirror_mode": {
    "name": "ipython",
    "version": 3
   },
   "file_extension": ".py",
   "mimetype": "text/x-python",
   "name": "python",
   "nbconvert_exporter": "python",
   "pygments_lexer": "ipython3",
   "version": "3.13.5"
  }
 },
 "nbformat": 4,
 "nbformat_minor": 5
}
