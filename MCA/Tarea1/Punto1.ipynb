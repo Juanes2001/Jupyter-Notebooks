{
 "cells": [
  {
   "cell_type": "markdown",
   "id": "82e0af5e-51f7-4339-9532-b558d619c4d5",
   "metadata": {},
   "source": [
    "# 1 . Desarrollo en bases bidimensionales\n",
    "\n",
    "Sean los operadores $\\hat{A}$ y $\\hat{B}$ definidos en el espacio desarrollado por los vectores {$|u_{1}⟩, |u_{2}⟩$} como:\n",
    "\n",
    "$\\hat{A} = −|u_{1}⟩⟨u_{2}| − |u_{2}⟩⟨u_{1}|$\n",
    "\n",
    "y\n",
    "\n",
    "$\\hat{B} = 3|u_{1}⟩⟨u_{1}| + 3|u_{2}⟩⟨u_{2}| − |u_{1}⟩⟨u_{2}| − |u_{2}⟩⟨u_{1}|$\n",
    "\n",
    "Compruebe si los operadores conmutan aplicando el conmutador $[\\hat{A}, \\hat{B}]$ sobre una función cualquiera\n",
    "$|Ψ⟩ = C_{1}|u_{1}⟩ + C_{2}|u_{2}⟩$. Encuentre los autovalores del operador $\\hat{B}$, {$|ψ_{1}⟩, |ψ_{2}⟩$}, y compruebe que\n",
    "{$\\hat{A}|ψ1⟩, \\hat{A}|ψ2⟩$} son también autovectores de $\\hat{B}$. ¿Por qué deberían ser los autovectores de $\\hat{A}$ también\n",
    "autovectores de $\\hat{B}$? Compruébelo."
   ]
  },
  {
   "cell_type": "markdown",
   "id": "bc104a06-0164-41f9-802c-43117eb03f1d",
   "metadata": {},
   "source": [
    "Para trabajar usando Python el punto 1, como la base bidimensional no esta definida,\n",
    "se tratara la base como si fueran los vectores  de R2, osea e1 y e2, por lo que el Ket\n",
    "estará asociado  con el vector columna y el bra estara asociado al vector fila."
   ]
  },
  {
   "cell_type": "code",
   "execution_count": 1,
   "id": "355dcab6-a327-4dbe-9307-002829e7ecac",
   "metadata": {},
   "outputs": [],
   "source": [
    "#Importamos las librerias que se van a usar.\n",
    "\n",
    "from sympy.core.random import random\n",
    "import numpy as np"
   ]
  },
  {
   "cell_type": "markdown",
   "id": "a9cbdc07-1744-4d7a-b55c-ccf85c7e4407",
   "metadata": {},
   "source": [
    "### DEFINICIÓN DE FUNCIONES"
   ]
  },
  {
   "cell_type": "code",
   "execution_count": 2,
   "id": "9fb567fb-4c14-4b5d-8165-dd186e7a623c",
   "metadata": {},
   "outputs": [],
   "source": [
    "#Definimos la funcion delta de croniquer\n",
    "def dcroc(i, j):\n",
    "    if i == j:\n",
    "        return 1\n",
    "    else:\n",
    "        return 0\n",
    "\n",
    "#Definimos la función Que genera una base ortogonal en Rn\n",
    "def baseRn(dim):\n",
    "    base = []\n",
    "    for i in range(1, dim + 1):\n",
    "        base.append([dcroc(j, i) for j in range(1, dim + 1)])\n",
    "    return np.array(base)"
   ]
  },
  {
   "cell_type": "markdown",
   "id": "a92cbf6e-3344-4d58-bbb3-f59f59d57e36",
   "metadata": {},
   "source": [
    " Creadas las funciones, solo basta crear los elementos con los que se va a trabajar"
   ]
  },
  {
   "cell_type": "code",
   "execution_count": 3,
   "id": "1cfb26c0-46b2-44b3-8c6e-76535f3aded1",
   "metadata": {},
   "outputs": [
    {
     "name": "stdout",
     "output_type": "stream",
     "text": [
      "u1 = \n",
      "[[1]\n",
      " [0]]\n",
      "||||||\n",
      "u2 = \n",
      "[[0]\n",
      " [1]] \n"
     ]
    }
   ],
   "source": [
    "dim = 2 # Dimension de la base, R2\n",
    "base = baseRn(dim) # Con esta funcion obtenemos una base del plano que va a representar a nuestra base\n",
    "                      #  de funciones.\n",
    "\n",
    "# Teniendo la base podemos definir u1 y u2\n",
    "\n",
    "u1 = np.array([base[0]]).T\n",
    "u2 = np.array([base[1]]).T\n",
    "\n",
    "print (f\"u1 = \\n{u1}\\n||||||\\nu2 = \\n{u2} \")"
   ]
  },
  {
   "cell_type": "markdown",
   "id": "6dbab717-6b71-4fc5-ac30-9ed328d5035b",
   "metadata": {},
   "source": [
    "Definimos los operadores desde lo que nos da el ejercicio"
   ]
  },
  {
   "cell_type": "code",
   "execution_count": 4,
   "id": "e68c19d0-a2ff-4d15-8a4d-4d58325a52a7",
   "metadata": {},
   "outputs": [
    {
     "name": "stdout",
     "output_type": "stream",
     "text": [
      "A = \n",
      " [[ 0 -1]\n",
      " [-1  0]]\n",
      "|||||||\n",
      "B = \n",
      " [[ 3 -1]\n",
      " [-1  3]]\n"
     ]
    }
   ],
   "source": [
    "# Definimos el operador A y B\n",
    "\n",
    "A = -u1 @ u2.T -u2 @ u1.T # Teniendo en cuenta que la representacion de los KET son columna y los BRA son vectores\n",
    "                          # fila.\n",
    "\n",
    "B = 3*u1 @ u1.T +3*u2 @ u2.T -u1 @ u2.T -u2 @ u1.T\n",
    "\n",
    "print (f\"A = \\n {A}\\n|||||||\\nB = \\n {B}\")"
   ]
  },
  {
   "cell_type": "markdown",
   "id": "36137726-6c56-4569-a270-1ef6700e494b",
   "metadata": {},
   "source": [
    "Analizamos si si conmutan"
   ]
  },
  {
   "cell_type": "code",
   "execution_count": 5,
   "id": "6ce9352c-f627-41b8-b062-4da585355b0d",
   "metadata": {},
   "outputs": [
    {
     "name": "stdout",
     "output_type": "stream",
     "text": [
      "Phi = \n",
      "[[ 0.67977778]\n",
      " [-0.10055305]]\n",
      "|||||\n",
      "[A,B]*phi = 0.0\n"
     ]
    }
   ],
   "source": [
    "Phi = random()*u1 -random()*u2 #Generamos una combinacion lineal aleatoria para generalidad\n",
    "conmut =(A@B)-(B@A)\n",
    "\n",
    "print (f\"Phi = \\n{Phi}\\n|||||\")\n",
    "print(f\"[A,B]*phi = {(conmut@Phi).sum()}\")"
   ]
  },
  {
   "cell_type": "markdown",
   "id": "bded1f21-aaa1-4d27-badb-17a54de78779",
   "metadata": {},
   "source": [
    "Buscamos los autoestados del operador B diagonalizando la matriz de B"
   ]
  },
  {
   "cell_type": "code",
   "execution_count": 6,
   "id": "f910f9ab-2f32-4b33-a2d5-af89a6ee79ac",
   "metadata": {},
   "outputs": [
    {
     "name": "stdout",
     "output_type": "stream",
     "text": [
      "lambdaB1 = 4.0\n",
      "lambdaB2 = 2.0\n",
      "\n",
      "\n",
      "phiB1 = [ 0.70710678 -0.70710678]\n",
      "B*phiB1/lambdaB1 = [ 0.70710678 -0.70710678] --->    Comparacion entre phiB1 y B*phiB1/lambdaB1\n",
      "\n",
      "\n",
      "|||||||||||||||||||||||||||||||\n",
      "\n",
      "\n",
      "phiB2 = [0.70710678 0.70710678]\n",
      "B*phiB2/lambdaB2 = [0.70710678 0.70710678] --->   Comparacion entre phiB2 y B*phiB2/lambdaB2\n"
     ]
    }
   ],
   "source": [
    "eigvals1, eigvec1 = np.linalg.eig(B)\n",
    "\n",
    "#Veamos que en efecto se cumple que hayamos los autovectores con sus autovalores\n",
    "\n",
    "b1 = eigvals1[0]\n",
    "b2 = eigvals1[1]\n",
    "\n",
    "phiB1 = (eigvec1.T)[0].T\n",
    "phiB2 = (eigvec1.T)[1].T\n",
    "\n",
    "print (f\"lambdaB1 = {b1}\")\n",
    "print (f\"lambdaB2 = {b2}\\n\\n\")\n",
    "\n",
    "print (f\"phiB1 = {phiB1}\\nB*phiB1/lambdaB1 = {(B@phiB1)/b1} --->    Comparacion entre phiB1 y B*phiB1/lambdaB1\")\n",
    "print(\"\\n\\n|||||||||||||||||||||||||||||||\\n\\n\")\n",
    "print (f\"phiB2 = {phiB2}\\nB*phiB2/lambdaB2 = {(B@phiB2)/b2} --->   Comparacion entre phiB2 y B*phiB2/lambdaB2\")\n"
   ]
  },
  {
   "cell_type": "markdown",
   "id": "3d79f3de-0a22-48bd-b611-668d0f6abcf7",
   "metadata": {},
   "source": [
    "Si $A*phiB1$ y $A*phiB2$ son tambien autovectores de $B$ significa que $phiB1$ y $phiB2$ son autoestados de $A$.\n",
    "\n",
    "Por lo que hacemos el mismo procedimiento para $A$:"
   ]
  },
  {
   "cell_type": "code",
   "execution_count": 7,
   "id": "1d9c4f89-eed1-41ef-b1bf-aadf006d4328",
   "metadata": {},
   "outputs": [],
   "source": [
    "eigvals2, eigvec2 = np.linalg.eig(A)\n",
    "\n",
    "a1 = eigvals2[0]\n",
    "a2 = eigvals2[1]"
   ]
  },
  {
   "cell_type": "markdown",
   "id": "4b91a3db-91d0-4410-98ef-542e159b3bfe",
   "metadata": {},
   "source": [
    "Sin usar los autovectores que me entregan para $A$, usando solo los de $B$, veamos si nos da iguales a los autovectores de $B$"
   ]
  },
  {
   "cell_type": "code",
   "execution_count": 8,
   "id": "344f6fe2-d1ff-4a97-b73d-1b1005058945",
   "metadata": {},
   "outputs": [
    {
     "name": "stdout",
     "output_type": "stream",
     "text": [
      "lambdaA1 = 1.0\n",
      "lambdaA2 = -1.0\n",
      "\n",
      "\n",
      "phiB1 = [ 0.70710678 -0.70710678]\n",
      "A*phiB1/lambdaA1 = [ 0.70710678 -0.70710678]  --->  Comparacion entre phiB1 y A*phiB1/lambdaA1\n",
      "\n",
      "\n",
      "|||||||||||||||||||||||||||||||\n",
      "\n",
      "\n",
      "phiB2 = [0.70710678 0.70710678]\n",
      "A*phiB2/lambdaA2 = [0.70710678 0.70710678]  --->  Comparacion entre phiB2 y A*phiB2/lambdaA2\n"
     ]
    }
   ],
   "source": [
    "print (f\"lambdaA1 = {a1}\")\n",
    "print (f\"lambdaA2 = {a2}\\n\\n\")\n",
    "\n",
    "print (f\"phiB1 = {phiB1}\\nA*phiB1/lambdaA1 = {(A@phiB1)/a1}  --->  Comparacion entre phiB1 y A*phiB1/lambdaA1\")\n",
    "print(\"\\n\\n|||||||||||||||||||||||||||||||\\n\\n\")\n",
    "print (f\"phiB2 = {phiB2}\\nA*phiB2/lambdaA2 = {(A@phiB2)/a2}  --->  Comparacion entre phiB2 y A*phiB2/lambdaA2\")\n"
   ]
  },
  {
   "cell_type": "markdown",
   "id": "8dce12c9-52c5-440b-9a78-b7273b10089b",
   "metadata": {},
   "source": [
    "Vemos que en efecto obtenemos los mismos autovectores de $B$ usando los obtenidos para $B$ suponiendo que son\n",
    "los mismos autovectores en $A$, esto es debido a que tanto el operador $A$ como $B$ son matrices hermíticas y ademas conmutan, por lo que comparten un conjunto comun de autovalores debido a que no hay degeneracion en sus autovalores."
   ]
  }
 ],
 "metadata": {
  "kernelspec": {
   "display_name": "Python [conda env:base] *",
   "language": "python",
   "name": "conda-base-py"
  },
  "language_info": {
   "codemirror_mode": {
    "name": "ipython",
    "version": 3
   },
   "file_extension": ".py",
   "mimetype": "text/x-python",
   "name": "python",
   "nbconvert_exporter": "python",
   "pygments_lexer": "ipython3",
   "version": "3.13.5"
  }
 },
 "nbformat": 4,
 "nbformat_minor": 5
}
