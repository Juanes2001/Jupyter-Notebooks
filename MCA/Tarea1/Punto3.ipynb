{
 "cells": [
  {
   "cell_type": "markdown",
   "id": "831190db-bb65-41bf-81b9-2bcb71172875",
   "metadata": {},
   "source": [
    "# 2 . Desarrollo en bases tridimensionales"
   ]
  },
  {
   "cell_type": "code",
   "execution_count": null,
   "id": "aa859ddd-e7ed-4b9e-8686-c109410663d7",
   "metadata": {},
   "outputs": [],
   "source": []
  },
  {
   "cell_type": "code",
   "execution_count": null,
   "id": "8414d394-df41-42fd-8716-85c4a76b708f",
   "metadata": {},
   "outputs": [],
   "source": []
  },
  {
   "cell_type": "code",
   "execution_count": null,
   "id": "a7b8a79b-1ea8-4e4b-9f21-93780f9ae1d3",
   "metadata": {},
   "outputs": [],
   "source": []
  },
  {
   "cell_type": "code",
   "execution_count": null,
   "id": "1c15004e-325c-4e5f-9ce5-a613fcf73579",
   "metadata": {},
   "outputs": [],
   "source": []
  },
  {
   "cell_type": "code",
   "execution_count": null,
   "id": "d8b0c51e-43b1-402d-8729-af63f29b77b2",
   "metadata": {},
   "outputs": [],
   "source": []
  }
 ],
 "metadata": {
  "kernelspec": {
   "display_name": "Python 3 (ipykernel)",
   "language": "python",
   "name": "python3"
  },
  "language_info": {
   "codemirror_mode": {
    "name": "ipython",
    "version": 3
   },
   "file_extension": ".py",
   "mimetype": "text/x-python",
   "name": "python",
   "nbconvert_exporter": "python",
   "pygments_lexer": "ipython3",
   "version": "3.13.5"
  }
 },
 "nbformat": 4,
 "nbformat_minor": 5
}
