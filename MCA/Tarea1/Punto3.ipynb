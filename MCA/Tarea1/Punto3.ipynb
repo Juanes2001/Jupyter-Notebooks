{
 "cells": [
  {
   "cell_type": "markdown",
   "id": "831190db-bb65-41bf-81b9-2bcb71172875",
   "metadata": {},
   "source": [
    "# 3 . Desarrollo de nuevos operadores\n",
    "\n",
    "Consideramos el espacio desarrollado por la base ortonormal {$|n⟩$}${}_{n=0,1,2,3,4}$. El operador $\\hat{a}$ actúa sobre los elementos de la base como $\\hat{a}|n⟩ = \\sqrt{n}|n − 1⟩$ y el operador $\\hat{a}^{\\dagger}$ lo hace como $\\hat{a}^{\\dagger}|n⟩ = \\sqrt{n + 1}|n + 1⟩$. Muestre la representación matricial de los operadores $\\hat{a}$ y $\\hat{a}^{\\dagger}$ en esta base. Calcule también la matriz del operador $\\hat{N}$ = $\\hat{a}^{\\dagger}\\hat{a}$. Desarrolle estos operadores en la base {$|n⟩$} y compruebe cómo actúan sobre los vectores de la base.\n",
    "\n"
   ]
  },
  {
   "cell_type": "code",
   "execution_count": 46,
   "id": "aa859ddd-e7ed-4b9e-8686-c109410663d7",
   "metadata": {},
   "outputs": [],
   "source": [
    "#Importamos las librerias y funciones que podamos usar sobre la marcha\n",
    "import math\n",
    "import numpy as np"
   ]
  },
  {
   "cell_type": "markdown",
   "id": "a489966a-26da-4fdf-a11e-f4c9361203b4",
   "metadata": {},
   "source": [
    "## Definicion de funciones a usar"
   ]
  },
  {
   "cell_type": "code",
   "execution_count": 47,
   "id": "a7b8a79b-1ea8-4e4b-9f21-93780f9ae1d3",
   "metadata": {},
   "outputs": [],
   "source": [
    "def dcroc(i, j):\n",
    "    if i == j:\n",
    "        return 1\n",
    "    else:\n",
    "        return 0\n",
    "\n",
    "\n",
    "def baseRn(dim):\n",
    "    base = []\n",
    "    for i in range(1, dim + 1):\n",
    "        base.append([dcroc(j, i) for j in range(1, dim + 1)])\n",
    "    return np.array(base)\n"
   ]
  },
  {
   "cell_type": "markdown",
   "id": "4415f960-f483-4dc6-808f-9f27768c1517",
   "metadata": {},
   "source": [
    "**Definimos una base de R5 ortogonal**"
   ]
  },
  {
   "cell_type": "code",
   "execution_count": 48,
   "id": "d8b0c51e-43b1-402d-8729-af63f29b77b2",
   "metadata": {},
   "outputs": [
    {
     "name": "stdout",
     "output_type": "stream",
     "text": [
      "[[1 0 0 0 0]\n",
      " [0 1 0 0 0]\n",
      " [0 0 1 0 0]\n",
      " [0 0 0 1 0]\n",
      " [0 0 0 0 1]]\n"
     ]
    }
   ],
   "source": [
    "baseR5 = baseRn(5)\n",
    "\n",
    "print(baseR5)\n",
    "\n",
    "u0 = np.array([baseR5[0]]).T\n",
    "u1 = np.array([baseR5[1]]).T\n",
    "u2 = np.array([baseR5[2]]).T\n",
    "u3 = np.array([baseR5[3]]).T\n",
    "u4 = np.array([baseR5[4]]).T"
   ]
  },
  {
   "cell_type": "markdown",
   "id": "fcc2e6a4-0dbb-4116-b7dc-77c334d7032f",
   "metadata": {},
   "source": [
    "__Definimos el operador a desde su definicion en el ejecicio. Similar para a daga__"
   ]
  },
  {
   "cell_type": "code",
   "execution_count": 49,
   "id": "d7d469e2-c4bb-435a-ba23-3a58cbb973a4",
   "metadata": {},
   "outputs": [
    {
     "name": "stdout",
     "output_type": "stream",
     "text": [
      "a = \n",
      "[[0.    1.    0.    0.    0.   ]\n",
      " [0.    0.    1.414 0.    0.   ]\n",
      " [0.    0.    0.    1.732 0.   ]\n",
      " [0.    0.    0.    0.    2.   ]\n",
      " [0.    0.    0.    0.    0.   ]]\n",
      "\n",
      "||||||||||||||||||||||||||||||||||||||||||||||||||||||||||||||\n",
      "\n",
      "adag = \n",
      "[[0.    0.    0.    0.    0.   ]\n",
      " [1.    0.    0.    0.    0.   ]\n",
      " [0.    1.414 0.    0.    0.   ]\n",
      " [0.    0.    1.732 0.    0.   ]\n",
      " [0.    0.    0.    2.    0.   ]]\n"
     ]
    }
   ],
   "source": [
    "a = np.round(u0@u1.T + math.sqrt(2)*u1@u2.T + math.sqrt(3)*u2@u3.T + math.sqrt(4)*u3@u4.T,3)\n",
    "\n",
    "print(f\"a = \\n{a}\\n\\n||||||||||||||||||||||||||||||||||||||||||||||||||||||||||||||\\n\")\n",
    "\n",
    "adag = np.round(u1@u0.T + math.sqrt(2)*u2@u1.T + math.sqrt(3)*u3@u2.T + math.sqrt(4)*u4@u3.T,3)\n",
    "\n",
    "print(f\"adag = \\n{adag}\")\n"
   ]
  },
  {
   "cell_type": "markdown",
   "id": "ada71039-b6b2-4879-8dff-3ac02aac8ac2",
   "metadata": {},
   "source": [
    "__Por último definimos N como la multiplicacion de adag*a__"
   ]
  },
  {
   "cell_type": "code",
   "execution_count": 50,
   "id": "538ec75a-8e9d-4c81-b036-72715cc624c4",
   "metadata": {},
   "outputs": [
    {
     "name": "stdout",
     "output_type": "stream",
     "text": [
      "N = \n",
      "[[0. 0. 0. 0. 0.]\n",
      " [0. 1. 0. 0. 0.]\n",
      " [0. 0. 2. 0. 0.]\n",
      " [0. 0. 0. 3. 0.]\n",
      " [0. 0. 0. 0. 4.]]\n"
     ]
    }
   ],
   "source": [
    "N = np.round(adag@a,2)\n",
    "\n",
    "print(f\"N = \\n{N}\")"
   ]
  },
  {
   "cell_type": "markdown",
   "id": "a515bddb-5768-4ddf-8263-9adeacaf60f2",
   "metadata": {},
   "source": [
    "Aplicamos estos operadores sobre cada uno de los vectores de la base y observamos los resultados."
   ]
  },
  {
   "cell_type": "code",
   "execution_count": 51,
   "id": "abc91e16-900e-46fe-828f-74516b904a4f",
   "metadata": {},
   "outputs": [
    {
     "name": "stdout",
     "output_type": "stream",
     "text": [
      "a*[[1 0 0 0 0]] = [[0. 0. 0. 0. 0.]]\n",
      "a*[[0 1 0 0 0]] = 1.0*[[1. 0. 0. 0. 0.]]\n",
      "a*[[0 0 1 0 0]] = 1.414*[[0. 1. 0. 0. 0.]]\n",
      "a*[[0 0 0 1 0]] = 1.732*[[0. 0. 1. 0. 0.]]\n",
      "a*[[0 0 0 0 1]] = 2.0*[[0. 0. 0. 1. 0.]]\n"
     ]
    }
   ],
   "source": [
    "print (f\"a*{u0.T} = {(a@u0).T}\")\n",
    "print (f\"a*{u1.T} = {math.sqrt(1)}*{(a@u1/math.sqrt(1)).T}\")\n",
    "print (f\"a*{u2.T} = {round(math.sqrt(2),3)}*{(a@u2/round(math.sqrt(2),3)).T}\")\n",
    "print (f\"a*{u3.T} = {round(math.sqrt(3),3)}*{(a@u3/round(math.sqrt(3),3)).T}\")\n",
    "print (f\"a*{u4.T} = {round(math.sqrt(4),3)}*{(a@u4/round(math.sqrt(4),3)).T}\")"
   ]
  },
  {
   "cell_type": "code",
   "execution_count": 52,
   "id": "995e2786-d166-4780-97bf-6d6f55165894",
   "metadata": {},
   "outputs": [
    {
     "name": "stdout",
     "output_type": "stream",
     "text": [
      "adag*[[1 0 0 0 0]] = [[0. 1. 0. 0. 0.]]\n",
      "adag*[[0 1 0 0 0]] = 1.414*[[0. 0. 1. 0. 0.]]\n",
      "adag*[[0 0 1 0 0]] = 1.732*[[0. 0. 0. 1. 0.]]\n",
      "adag*[[0 0 0 1 0]] = 2.0*[[0. 0. 0. 0. 1.]]\n",
      "adag*[[0 0 0 0 1]] = 2.236*[[0. 0. 0. 0. 0.]]\n"
     ]
    }
   ],
   "source": [
    "print (f\"adag*{u0.T} = {(adag@u0).T}\")\n",
    "print (f\"adag*{u1.T} = {round(math.sqrt(1+1),3)}*{(adag@u1/round(math.sqrt(1+1),3)).T}\")\n",
    "print (f\"adag*{u2.T} = {round(math.sqrt(2+1),3)}*{(adag@u2/round(math.sqrt(2+1),3)).T}\")\n",
    "print (f\"adag*{u3.T} = {round(math.sqrt(3+1),3)}*{(adag@u3/round(math.sqrt(3+1),3)).T}\")\n",
    "print (f\"adag*{u4.T} = {round(math.sqrt(4+1),3)}*{(adag@u4/round(math.sqrt(4+1),3)).T}\")"
   ]
  },
  {
   "cell_type": "code",
   "execution_count": 53,
   "id": "57cb71fe-cc58-4874-abab-87bc4c0e1eee",
   "metadata": {},
   "outputs": [
    {
     "name": "stdout",
     "output_type": "stream",
     "text": [
      "N*[[1 0 0 0 0]] = [[0. 0. 0. 0. 0.]]\n",
      "N*[[0 1 0 0 0]] = [[0. 1. 0. 0. 0.]]\n",
      "N*[[0 0 1 0 0]] = [[0. 0. 2. 0. 0.]]\n",
      "N*[[0 0 0 1 0]] = [[0. 0. 0. 3. 0.]]\n",
      "N*[[0 0 0 0 1]] = [[0. 0. 0. 0. 4.]]\n"
     ]
    }
   ],
   "source": [
    "print (f\"N*{u0.T} = {(N@u0).T}\")\n",
    "print (f\"N*{u1.T} = {(N@u1).T}\")\n",
    "print (f\"N*{u2.T} = {(N@u2).T}\")\n",
    "print (f\"N*{u3.T} = {(N@u3).T}\")\n",
    "print (f\"N*{u4.T} = {(N@u4).T}\")"
   ]
  }
 ],
 "metadata": {
  "kernelspec": {
   "display_name": "Python 3 (ipykernel)",
   "language": "python",
   "name": "python3"
  },
  "language_info": {
   "codemirror_mode": {
    "name": "ipython",
    "version": 3
   },
   "file_extension": ".py",
   "mimetype": "text/x-python",
   "name": "python",
   "nbconvert_exporter": "python",
   "pygments_lexer": "ipython3",
   "version": "3.13.5"
  }
 },
 "nbformat": 4,
 "nbformat_minor": 5
}
