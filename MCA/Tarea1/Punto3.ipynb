{
 "cells": [
  {
   "cell_type": "code",
   "execution_count": null,
   "id": "65d280cb-48e3-4910-ae53-de235873b065",
   "metadata": {},
   "outputs": [],
   "source": []
  }
 ],
 "metadata": {
  "kernelspec": {
   "display_name": "",
   "name": ""
  },
  "language_info": {
   "name": ""
  }
 },
 "nbformat": 4,
 "nbformat_minor": 5
}
