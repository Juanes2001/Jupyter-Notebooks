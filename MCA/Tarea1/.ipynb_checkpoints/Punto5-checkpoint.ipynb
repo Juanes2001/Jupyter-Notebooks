{
 "cells": [
  {
   "cell_type": "markdown",
   "id": "33fe53f7-1b86-4b7c-971b-c68959941da5",
   "metadata": {},
   "source": [
    "# 5 . Algoritmo de Gram Schmidt\n",
    "\n",
    "Use el método de Gram-Schmidt para ortogonalizar el conjunto formado por {$x^{n}$}${}_{n=0,1,2,3,4}$ en\n",
    "el intervalo $−1 ≤ x ≤ 1$. Use Mathematica (Python) para comparar el conjunto obtenido con el formado\n",
    "por los polinomios de Legendre con $n = 0, 1, 2, 3, 4$. Adem ́as, normalice las funciones y desarrolle\n",
    "$f(x) = cos(x) sin(x)$ en ese intervalo con las funciones obtenidas.\n",
    "\n",
    "EL punto 5 de la tarea 1 se estructurará de la siguiente manera: al inicio se mostrarán las librerias a usar y las funciones que se defniniran para simplificar enormemente el desarrollo del ejercicio, por ejemplo funciones como realizar un producto punto usando la base de funciones de Taylor, una funcion que me genere la base de funciones pidiendo como entrada la dimension de la base, etc. "
   ]
  },
  {
   "cell_type": "code",
   "execution_count": 3,
   "id": "f03cea84-65f5-449c-a82d-f33e1b6f4a33",
   "metadata": {},
   "outputs": [],
   "source": [
    "# Importamos librerias\n",
    "import numpy as np\n",
    "import math\n",
    "from scipy import integrate\n",
    "import matplotlib.pyplot as ptl\n",
    "import pandas as pd\n",
    "from tabulate import tabulate"
   ]
  },
  {
   "cell_type": "markdown",
   "id": "fdf3f91a-b112-4147-830a-64fc2a07b888",
   "metadata": {},
   "source": [
    "## Desarrollo de las funciones\n",
    "### FUNCION GENERACIÓN DE LA BASE [base(var,n)]\n",
    "\n",
    "Esta función toma como entrada la variable (var) independiente (dominio) la cual es un vector que contiene todos los valores muestreados del dominio, y el resultado es una base de Taylor {$x^{n}$} con dimension $n$, mas especificamente, un array que contiene la nube de puntos que representan al dominio evaluado en la función."
   ]
  },
  {
   "cell_type": "code",
   "execution_count": null,
   "id": "1c187fe7-018d-4121-aae9-1884a9d1adc1",
   "metadata": {},
   "outputs": [],
   "source": [
    "def base(var,n):\n",
    "    fun = np.array([var**i for i in range(n)])\n",
    "    return fun"
   ]
  },
  {
   "cell_type": "markdown",
   "id": "aef1c64a-ae66-44ec-af6a-ac8884e4b4bb",
   "metadata": {},
   "source": [
    "### FUNCION PRODUCTO PUNTO [dot(dom,fun1,fun2)]\n",
    "\n",
    "Esta función halla el producto punto de dos funciones (Representacion de la funcion en nube de puntos), en la cual recibe el dominio de las funciones, y las dos funciones a las que se le va a sacar el producto punto. Solo se integra usando el metodo de integración numerica de Simpson la cual recibe la funcion a integrar y el dominio de la misma, y retorna el resultado de la integración."
   ]
  },
  {
   "cell_type": "code",
   "execution_count": null,
   "id": "eff025c9-90bb-4170-8d0c-89ed5fd44415",
   "metadata": {},
   "outputs": [],
   "source": [
    "def dot(dom,fun1,fun2):\n",
    "\n",
    "    inte = integrate.simpson(fun1*fun2,dom)\n",
    "    return inte"
   ]
  },
  {
   "cell_type": "markdown",
   "id": "2fff5fa1-d089-4ffc-8301-e04a8d97e7e5",
   "metadata": {},
   "source": [
    "### FUNCION DE NORMALIZACIÓN DE UNA BASE [norm(dom,fun_ort)]\n",
    "\n",
    "Esta funcion normaliza los vectores de una base, es decir, hace que la norma de cada vector (función) sea unitario; recibe el dominio sobre el que esta definida la base, y tambien recibe la base de funciones como un bector el almacena la nube de puntos de cada funcion a normalizar, osea un vector de vectores. Para cada vector (función) se halla el producto de la funcion con si misma y al resultado se le saca la raiz cuadrada, luego los valores se van almacenando en un arreglo, luego se crea un nuevo arreglo en donde se almacenan las nubes de puntos de la base inicial dividiendo cada una por la norma que se encontro anteriormente, logrando asi normalizar a las nubes de puntos y entregando al final una base normalizada.\n",
    "\n"
   ]
  },
  {
   "cell_type": "code",
   "execution_count": null,
   "id": "06351346-5f10-4f1d-a18b-78ca4f4c9a0e",
   "metadata": {},
   "outputs": [],
   "source": [
    "def norm(dom,fun_ort):\n",
    "\n",
    "    #contamos cual es la dimension de la base\n",
    "    len_base = len(fun_ort)\n",
    "    norm_sqr = []\n",
    "    for i in range(len_base):\n",
    "\n",
    "        norm_sqr.append(math.sqrt(dot(dom,fun_ort[i],fun_ort[i])))\n",
    "\n",
    "    fun_ort_norm = np.array([fun_ort[i]/norm_sqr[i] for i in range(len_base)])\n",
    "    return fun_ort_norm"
   ]
  },
  {
   "cell_type": "markdown",
   "id": "4b45350c-8833-4070-859c-8f9f9df8ac34",
   "metadata": {},
   "source": [
    "### FUNCION ALGORITMO DE GRAM-SCHMIDT [Gram(dom, fun)]\n",
    "\n",
    "Esta funcion recibe el dominio de la base y una base no ortogonal, osea un vector que almacena nubes de puntos que representan las funciones no ortogonales, al final se entrega una base ortonormal, por lo que al final se aplica un proceso de normalización posterior a la ortogonalización. "
   ]
  },
  {
   "cell_type": "code",
   "execution_count": null,
   "id": "ab181e05-7805-425c-9e95-6f609fbd77ee",
   "metadata": {},
   "outputs": [],
   "source": [
    "def Gram(dom, fun):\n",
    "    # Queremos retornar ya la base pero ortogonalizada, por lo que el retorno sera otro vector de funciones\n",
    "\n",
    "    # primero leemos cuantas funciones de la base son:\n",
    "    len_base = len(fun)\n",
    "    #aplicamos el algoritmo definiendo cada funcion por separado y luego uniendolas al final:\n",
    "    arr_func = [fun[0]] # almacenamos la primera función de la nueva base ortogonal\n",
    "    acum = np.zeros(len(dom))\n",
    "    for k in range (1,len_base):\n",
    "        for j in range(k):\n",
    "\n",
    "            cross_point= dot(dom,arr_func[j],fun[k]) # producto punto cruzado\n",
    "            norm_sqr = dot(dom,arr_func[j],arr_func[j]) # norma al cuadrado\n",
    "\n",
    "\n",
    "            acum = acum + np.array((cross_point/norm_sqr)*arr_func[j])\n",
    "\n",
    "\n",
    "        arr_func.append(fun[k] - acum)\n",
    "        acum = np.zeros(len(dom))\n",
    "\n",
    "    fun_ort = np.array(arr_func)\n",
    "    base_ortN = norm(dom,fun_ort) ## Normalizamos la base resultante ya ortogonal\n",
    "\n",
    "    return base_ortN"
   ]
  },
  {
   "cell_type": "markdown",
   "id": "60482334-fd9e-4780-a511-5e5f54787859",
   "metadata": {},
   "source": [
    "Ya con estas funciones es suficiente para poder resolver las preguntas del problema."
   ]
  },
  {
   "cell_type": "code",
   "execution_count": null,
   "id": "2a6b231e-9264-43c9-86fe-c7772204a283",
   "metadata": {},
   "outputs": [],
   "source": []
  }
 ],
 "metadata": {
  "kernelspec": {
   "display_name": "Python [conda env:base] *",
   "language": "python",
   "name": "conda-base-py"
  },
  "language_info": {
   "codemirror_mode": {
    "name": "ipython",
    "version": 3
   },
   "file_extension": ".py",
   "mimetype": "text/x-python",
   "name": "python",
   "nbconvert_exporter": "python",
   "pygments_lexer": "ipython3",
   "version": "3.13.5"
  }
 },
 "nbformat": 4,
 "nbformat_minor": 5
}
