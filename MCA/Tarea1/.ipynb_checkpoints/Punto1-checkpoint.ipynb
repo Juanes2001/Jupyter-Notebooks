{
 "cells": [
  {
   "cell_type": "markdown",
   "id": "82e0af5e-51f7-4339-9532-b558d619c4d5",
   "metadata": {},
   "source": [
    "# 1 . Desarrollo en bases bidimensionales\n",
    "\n",
    "Sean los operadores $\\hat{A}$ y $\\hat{B}$ definidos en el espacio desarrollado por los vectores {$|u_{1}⟩, |u_{2}⟩$} como:\n",
    "\n",
    "$\\hat{A} = −|u_{1}⟩⟨u_{2}| − |u_{2}⟩⟨u_{1}|$\n",
    "\n",
    "y\n",
    "\n",
    "$\\hat{B} = 3|u_{1}⟩⟨u_{1}| + 3|u_{2}⟩⟨u_{2}| − |u_{1}⟩⟨u_{2}| − |u_{2}⟩⟨u_{1}|$\n",
    "\n",
    "Compruebe si los operadores conmutan aplicando el conmutador $[\\hat{A}, \\hat{A}]$ sobre una función cualquiera\n",
    "$|Ψ⟩ = C_{1}|u_{1}⟩ + C_{2}|u_{2}⟩$. Encuentre los autovalores del operador $\\hat{B}$, {$|ψ_{1}⟩, |ψ_{2}⟩$}, y compruebe que\n",
    "{$\\hat{A}|ψ1⟩, \\hat{A}|ψ2⟩$} son también autovectores de $\\hat{B}$. ¿Por qué deberían ser los autovectores de $\\hat{A}$ también\n",
    "autovectores de $\\hat{A}$? Compruébelo."
   ]
  },
  {
   "cell_type": "code",
   "execution_count": 9,
   "id": "355dcab6-a327-4dbe-9307-002829e7ecac",
   "metadata": {},
   "outputs": [],
   "source": [
    "import numpy as np\n",
    "import matplotlib.pyplot as ptl\n",
    "import pandas as pd\n",
    "from tabulate import tabulate\n",
    "import sympy as sp\n",
    "\n",
    "#Definimos la funcion delta de croniquer\n",
    "def dcroc(i, j):\n",
    "    if i == j:\n",
    "        return 1\n",
    "    else:\n",
    "        return 0\n",
    "\n",
    "\n",
    "def baseRn(dim):\n",
    "    base = []\n",
    "    for i in range(1, dim + 1):\n",
    "        base.append([dcroc(j, i) for j in range(1, dim + 1)])\n",
    "    return np.array(base)\n",
    "\n",
    "dim = 2\n",
    "base = baseRn(dim) # Con esta funcion obtenemos una base del plano que va a representar a nuestra base\n",
    "                      #  de funciones.\n",
    "\n",
    "# Teniendo la base podemos definir u1 y u2\n",
    "\n",
    "u1 = np.array([base[0]]).T\n",
    "u2 = np.array([base[1]]).T\n",
    "\n",
    "# Definimos el operador A y B\n",
    "\n",
    "A = -u1 @ u2.T -u2 @ u1.T # Teniendo en cuenta que la representacion de los KET son columna y los BRA son vectores\n",
    "                          # fila.\n",
    "\n",
    "B = 3*u1 @ u1.T +3*u2 @ u2.T -u1 @ u2.T -u2 @ u1.T\n",
    "\n",
    "## Veremos si los operadores conmutan.\n",
    "\n",
    "Phi = u1 + u2\n",
    "\n",
    "ABphi =(A@B)\n",
    "BAphi =(B@A)\n"
   ]
  },
  {
   "cell_type": "code",
   "execution_count": null,
   "id": "8b8db231-c55f-4438-80d6-fab3cce1def3",
   "metadata": {},
   "outputs": [],
   "source": []
  }
 ],
 "metadata": {
  "kernelspec": {
   "display_name": "Python 3 (ipykernel)",
   "language": "python",
   "name": "python3"
  },
  "language_info": {
   "codemirror_mode": {
    "name": "ipython",
    "version": 3
   },
   "file_extension": ".py",
   "mimetype": "text/x-python",
   "name": "python",
   "nbconvert_exporter": "python",
   "pygments_lexer": "ipython3",
   "version": "3.13.5"
  }
 },
 "nbformat": 4,
 "nbformat_minor": 5
}
