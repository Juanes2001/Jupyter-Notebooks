{
 "cells": [
  {
   "cell_type": "code",
   "execution_count": null,
   "id": "e4046150-9b1a-48d2-9b51-a09bb6de7d1c",
   "metadata": {},
   "outputs": [],
   "source": []
  }
 ],
 "metadata": {
  "kernelspec": {
   "display_name": "",
   "name": ""
  },
  "language_info": {
   "name": ""
  }
 },
 "nbformat": 4,
 "nbformat_minor": 5
}
