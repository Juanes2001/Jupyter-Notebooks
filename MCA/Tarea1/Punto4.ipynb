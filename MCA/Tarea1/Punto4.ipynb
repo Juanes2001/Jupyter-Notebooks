{
 "cells": [
  {
   "cell_type": "markdown",
   "id": "f1c0dd8d-e2aa-4c61-9805-1e1b007e64fa",
   "metadata": {},
   "source": [
    "# 4 . Rotaciones como diagonalizadores\n",
    "\n",
    "Consideremos una rotación en el espacio desarrollado por {$|u1⟩, |u2⟩$} definida como:\n",
    "\n",
    "$|ψ1⟩ = cos(θ)|u1⟩ + sin(θ)|u2⟩$\n",
    "\n",
    "$|ψ2⟩ = − sin(θ)|u1⟩ + cos(θ)|u2⟩$\n",
    "\n",
    "Encuentre la matriz de la transformación $U$ y su hermítica conjugada $U^{\\dagger}$. Considere una matriz real que representa un operador hermítico $\\hat{A}$ en ese espacio. Encuentre la matriz del operador en el espacio rotado y encuentre el  ́angulo $\\theta_{0}$ que diagonaliza la matriz. Encuentre el ángulo de rotación que diagonaliza la matriz $\\begin{pmatrix}\n",
    "a & a \\\\\n",
    "a & -a \\\\\n",
    "\\end{pmatrix}$ donde $a$ es un número real. Use esta rotación para calcular los autovalores del operador y sus autovectores en la base original."
   ]
  },
  {
   "cell_type": "code",
   "execution_count": 73,
   "id": "ba016260-75f9-4b7a-8cc5-910241891531",
   "metadata": {},
   "outputs": [],
   "source": [
    "#Como siempre lo primero sera traer las librerias que vamos a usar\n",
    "import math\n",
    "from sympy.core.random import random\n",
    "import numpy as np"
   ]
  },
  {
   "cell_type": "markdown",
   "id": "0eee9765-a43e-4796-b4a9-13b37fd54a8e",
   "metadata": {},
   "source": [
    "## Definicion de funciones a usar\n",
    "\n",
    "De nuevo usaremos como en el ejercicio 1 2 y 3 la funcion que nos genera una base en $\\mathbb{R}^{n}$, pero adicional, definiremos a modo de funcion el operador $U$ y $U^{\\dagger}$, las cuales gracias a la definicion del ejercicio como una rotacion, entonces sabemos que $U$ sera una matriz de rotacion en sentido antihorario, y $U^{\\dagger}$ una "
   ]
  },
  {
   "cell_type": "code",
   "execution_count": 74,
   "id": "d77cb17b-0bc0-4904-8df3-d9e5f8374d06",
   "metadata": {},
   "outputs": [],
   "source": [
    "def dcroc(i, j):\n",
    "    if i == j:\n",
    "        return 1\n",
    "    else:\n",
    "        return 0\n",
    "\n",
    "\n",
    "def baseRn(dim):\n",
    "    base = []\n",
    "    for i in range(1, dim + 1):\n",
    "        base.append([dcroc(j, i) for j in range(1, dim + 1)])\n",
    "    return np.array(base)\n",
    "\n",
    "\n",
    "#Rotación sentido antihorario\n",
    "def U(theta):\n",
    "\n",
    "    rot_matrix =np.array([ [math.cos(theta*math.pi/180),-math.sin(theta*math.pi/180)],\n",
    "                           [math.sin(theta*math.pi/180),math.cos(theta*math.pi/180)] ] )\n",
    "    return rot_matrix\n",
    "\n",
    "#Rotación sentido horario\n",
    "def Udag(theta):\n",
    "\n",
    "    rot_inv_matrix =np.array([ [math.cos(theta*math.pi/180),math.sin(theta*math.pi/180)],\n",
    "                               [-math.sin(theta*math.pi/180),math.cos(theta*math.pi/180)] ] )\n",
    "    return rot_inv_matrix\n",
    "\n",
    "#Producto punto entre dos funciones\n",
    "def dot(dom,fun1,fun2):\n",
    "    if dom != None:\n",
    "        inte = integrate.simpson(fun1*fun2,dom)\n",
    "        return inte\n",
    "    else:\n",
    "        # SI estamos aqui es porque fun1 y fun2 se tratan de vectores\n",
    "        dot_prod = np.sum(fun1*fun2)\n",
    "        return dot_prod"
   ]
  },
  {
   "cell_type": "markdown",
   "id": "195fde60-94c9-4ee3-a9ce-c497d9bdbcac",
   "metadata": {},
   "source": [
    "Defino una base en $\\mathbb{R}^{2}$ como base original"
   ]
  },
  {
   "cell_type": "code",
   "execution_count": 75,
   "id": "66ea6ff9-0bdb-48f9-a039-cd372466232e",
   "metadata": {},
   "outputs": [],
   "source": [
    "baseR2 = baseRn(2)\n",
    "\n",
    "u1 = np.array([baseR2[0]]).T\n",
    "u2 = np.array([baseR2[1]]).T"
   ]
  },
  {
   "cell_type": "markdown",
   "id": "a18f01d4-9d25-45fe-91a1-74e55902c8e9",
   "metadata": {},
   "source": [
    "__Ahora para una matriz A definida como en el ejercicio usando cualquier numero random como representacion de las entradas de a__"
   ]
  },
  {
   "cell_type": "code",
   "execution_count": 76,
   "id": "c5791f44-0f0d-4edf-b0e5-1092b66c3f9f",
   "metadata": {},
   "outputs": [],
   "source": [
    "a = random()\n",
    "\n",
    "A = np.array([[a,a],\n",
    "              [a,-a]])"
   ]
  },
  {
   "cell_type": "markdown",
   "id": "cdde4397-42af-48bd-a6c7-371e6b41278c",
   "metadata": {},
   "source": [
    "Por lo que los autovalores de este serán: \n",
    "\n",
    "$-(a^{2}-\\lambda^{2}) =a^{2} $  --> $\\lambda^{2} =2a^{2}$ --> $\\lambda^{2} = \\pm \\sqrt{2}a$\n",
    "\n",
    "\n",
    "Usamos la matriz de rotación $U$ de tal forma que podamos hallar el $\\theta_{0}$ para el cual se cumple que\n",
    "\n",
    "$D = U^{\\dagger}*A*U$\n",
    "\n",
    "\n",
    "Se puede demostrar que esta transformacion es solo una doble rotación, en el cual $\\begin{pmatrix}\n",
    "a \\\\a\n",
    "\\end{pmatrix}$ rota hasta $\\begin{pmatrix}\n",
    "\\sqrt{2}a \\\\0\n",
    "\\end{pmatrix}$ y\n",
    "$\\begin{pmatrix}\n",
    "a \\\\ -a\n",
    "\\end{pmatrix}$ rota hasta $\\begin{pmatrix}\n",
    "0 \\\\ -\\sqrt{2}a\n",
    "\\end{pmatrix}$, por lo que podemos hallar el angulo que se requiere para la tarea solo aplicando propidedades.\n",
    "de los vectores."
   ]
  },
  {
   "cell_type": "code",
   "execution_count": 77,
   "id": "f0cde001-d0ae-43f5-aa8d-3b8e38d0cef1",
   "metadata": {},
   "outputs": [
    {
     "name": "stdout",
     "output_type": "stream",
     "text": [
      "Column_1_(A) = [[0.70710678 0.70710678]]\n",
      "Rot_Column_1_(A) = [[1. 0.]]\n"
     ]
    }
   ],
   "source": [
    "Au1 = A[:,0:1]\n",
    "DA = np.array([[np.linalg.norm(Au1)],\n",
    "               [0]])\n",
    "\n",
    "print(f\"Column_1_(A) = {Au1.T/(np.linalg.norm(Au1))}\")\n",
    "print(f\"Rot_Column_1_(A) = {DA.T/(np.linalg.norm(Au1))}\")"
   ]
  },
  {
   "cell_type": "markdown",
   "id": "9a72b192-e45b-447f-8a9f-5bed862eb371",
   "metadata": {},
   "source": [
    "Usamos estos dos vectores para hallar el angulo entre ellos\n"
   ]
  },
  {
   "cell_type": "code",
   "execution_count": 78,
   "id": "4ba83855-90f4-405c-8421-8b7670ade1c0",
   "metadata": {},
   "outputs": [
    {
     "name": "stdout",
     "output_type": "stream",
     "text": [
      "Angulo de rotación = -22.5° , -pi/8 rad\n"
     ]
    }
   ],
   "source": [
    "theta = (180/math.pi)*math.acos(dot(None,Au1,DA)/(np.linalg.norm(Au1)*np.linalg.norm(DA)))/2\n",
    "\n",
    "print(f\"Angulo de rotación = -{theta}° , -pi/8 rad\")"
   ]
  },
  {
   "cell_type": "markdown",
   "id": "6c77877c-536c-4999-95f3-90fad72665b3",
   "metadata": {},
   "source": [
    "Veamos que en efecto si tenemos la diagonalizacion con este theta"
   ]
  },
  {
   "cell_type": "code",
   "execution_count": 79,
   "id": "a3bda270-3146-484f-a909-8cab95c49fcf",
   "metadata": {},
   "outputs": [
    {
     "name": "stdout",
     "output_type": "stream",
     "text": [
      "Udag(22.5)*A*U(22.5) = \n",
      "\n",
      "[[ 1.41 -0.  ]\n",
      " [-0.   -1.41]]\n"
     ]
    }
   ],
   "source": [
    "D = np.round(Udag(theta)@A@U(theta)/a,2)\n",
    "\n",
    "print(f\"Udag({theta})*A*U({theta}) = \\n\\n{D}\")"
   ]
  },
  {
   "cell_type": "markdown",
   "id": "c21430d4-ed45-4aa3-9fba-e664f9139d68",
   "metadata": {},
   "source": [
    "__Sus autovalores normalizados entonces son :__"
   ]
  },
  {
   "cell_type": "code",
   "execution_count": 80,
   "id": "67a0183a-2982-4f29-be73-1b3156b2fa63",
   "metadata": {},
   "outputs": [
    {
     "name": "stdout",
     "output_type": "stream",
     "text": [
      "lambda1 = 1.41 y lambda2 = -1.41\n"
     ]
    }
   ],
   "source": [
    "print(f\"lambda1 = {D[0][0]} y lambda2 = {D[1][1]}\")"
   ]
  },
  {
   "cell_type": "markdown",
   "id": "07fc9e2b-0f9e-49e9-bdfc-b46767f7a95c",
   "metadata": {},
   "source": [
    "Para hallar los auto estados del operador $A$ los hallamos en las columnas de la matriz $U(\\theta_{0})$ en este caso, osea la matriz\n",
    "que se coloca a la izquierda de la matriz diagonal que acabamos de hallar."
   ]
  },
  {
   "cell_type": "code",
   "execution_count": 81,
   "id": "2887de85-a8e3-49db-9446-95994637c4df",
   "metadata": {},
   "outputs": [
    {
     "name": "stdout",
     "output_type": "stream",
     "text": [
      "U(22.5) =\n",
      "[[ 0.92387953 -0.38268343]\n",
      " [ 0.38268343  0.92387953]]\n"
     ]
    }
   ],
   "source": [
    "print(f\"U(22.5) =\\n{U(theta)}\")"
   ]
  },
  {
   "cell_type": "markdown",
   "id": "22f721fc-36f8-44ad-8341-942d86716302",
   "metadata": {},
   "source": [
    "Comprobamos que efectivamente si son autovectores."
   ]
  },
  {
   "cell_type": "code",
   "execution_count": 82,
   "id": "b572b938-e70c-45cf-96cb-f7bdd1378bc7",
   "metadata": {},
   "outputs": [
    {
     "name": "stdout",
     "output_type": "stream",
     "text": [
      "Column_1(U(22.5)) =\n",
      "[[0.92387953]\n",
      " [0.38268343]]\n",
      "\n",
      "A*Column_1(U(22.5))/(sqrt(2)*a) = \n",
      "[[0.92387953]\n",
      " [0.38268343]]\n",
      "|||||||||||||||||||||||||||||||||||||||||||||\n",
      "\n",
      "Column_2(U(22.5)) =\n",
      "[[-0.38268343]\n",
      " [ 0.92387953]]\n",
      "\n",
      "A*Column_2(U(22.5))/(sqrt(2)*a) = \n",
      "[[-0.38268343]\n",
      " [ 0.92387953]]\n"
     ]
    }
   ],
   "source": [
    "A1 = A@U(theta)[:,0:1]/(math.sqrt(2)*a)\n",
    "A2 = A@U(theta)[:,1:2]/(-math.sqrt(2)*a)\n",
    "\n",
    "print(f\"Column_1(U(22.5)) =\\n{U(theta)[:,0:1]}\\n\")\n",
    "print(f\"A*Column_1(U(22.5))/(sqrt(2)*a) = \\n{A1}\")\n",
    "print(\"|||||||||||||||||||||||||||||||||||||||||||||\\n\")\n",
    "print(f\"Column_2(U(22.5)) =\\n{U(theta)[:,1:2]}\\n\")\n",
    "print(f\"A*Column_2(U(22.5))/(sqrt(2)*a) = \\n{A2}\")"
   ]
  },
  {
   "cell_type": "markdown",
   "id": "f39fd52a-e0eb-49e3-bf3f-622ea52e0c61",
   "metadata": {},
   "source": [
    "__Ya por último solo se tiene que aplicar la rotación para describir los autovectores en la base original $|u_{1}>$ y $|u_{2}>$__"
   ]
  },
  {
   "cell_type": "code",
   "execution_count": 83,
   "id": "d8579636-d1d8-48b7-ad35-6e8aa49f06aa",
   "metadata": {},
   "outputs": [
    {
     "name": "stdout",
     "output_type": "stream",
     "text": [
      "U(22.5)*|u1> = phiA1\n",
      "U(22.5)*|u2> = phiA2\n",
      "phiA1 = [[0.92 0.38]] = 0.92*|u1> + 0.38*|u2> \n",
      "phiA2 = [[-0.38  0.92]] = -0.38*|u1> + 0.92*|u2> \n"
     ]
    }
   ],
   "source": [
    "phiA1 = np.round(U(theta)@u1,2)\n",
    "phiA2 = np.round(U(theta)@u2,2)\n",
    "\n",
    "print(\"U(22.5)*|u1> = phiA1\")\n",
    "print(\"U(22.5)*|u2> = phiA2\")\n",
    "\n",
    "\n",
    "print(f\"phiA1 = {phiA1.T} = {phiA1[0][0]}*|u1> + {phiA1[1][0]}*|u2> \")\n",
    "print(f\"phiA2 = {phiA2.T} = {phiA2[0][0]}*|u1> + {phiA2[1][0]}*|u2> \")"
   ]
  }
 ],
 "metadata": {
  "kernelspec": {
   "display_name": "Python 3 (ipykernel)",
   "language": "python",
   "name": "python3"
  },
  "language_info": {
   "codemirror_mode": {
    "name": "ipython",
    "version": 3
   },
   "file_extension": ".py",
   "mimetype": "text/x-python",
   "name": "python",
   "nbconvert_exporter": "python",
   "pygments_lexer": "ipython3",
   "version": "3.13.5"
  }
 },
 "nbformat": 4,
 "nbformat_minor": 5
}
