{
 "cells": [
  {
   "cell_type": "markdown",
   "id": "f56961e6-c869-4c6b-98ef-48e6f3758f93",
   "metadata": {},
   "source": [
    "# 2 . Desarrollo en bases tridimensionales\n",
    "\n",
    "Sean los operadores $\\hat{A}$ y $\\hat{B}$ definidos en el espacio desarrollado por los vectores {$|u1⟩, |u2⟩, |u3⟩$}\n",
    "como:\n",
    "$\\hat{A} = |u_{1}⟩⟨u_{1}| + |u_{2}⟩⟨u_{2}| + |u_{1}⟩⟨u_{2}| + |u_{2}⟩⟨u_{1}| + |u_{2}⟩⟨u_{3}| + |u_{3}⟩⟨u_{2}| − |u_{1}⟩⟨u_{3}| − |u_{3}⟩⟨u_{1}|$\n",
    "y\n",
    "\n",
    "$\\hat{B} = 3|u_{1}⟩⟨u_{1}| + 3|u_{2}⟩⟨u_{2}| + 2|u_{3}⟩⟨u_{3}| + |u_{1}⟩⟨u_{2}| + |u_{2}⟩⟨u_{1}|$\n",
    "\n",
    "Represente matricialmente $|u_{1}⟩, |u_{2}⟩, |u_{3}⟩,⟨u_{1}|,⟨u_{2}| y ⟨u_{3}|$. Calcule las matrices de los operadores\n",
    "$\\hat{A}$ y $\\hat{B}$ en la base {$|u_{i}⟩$}${}_{i=1,2,3}$ y compruebe si las matrices conmutan. Encuentre los autovalores\n",
    "y autovectores de $\\hat{A}$ y $\\hat{B}$ y calcule la matriz de $\\hat{A}$ en la base de autovectores de $\\hat{B}$ y viceversa.\n",
    "Encuentre una base com ́un de autofunciones a partir del resultado anterior. Les recomiendo que usen Mathematica (o Python) o algún otro lenguaje de programación para resolver las operaciones planteadas en este problema.\n"
   ]
  },
  {
   "cell_type": "code",
   "execution_count": 19,
   "id": "5c36af16-57fe-4a82-931d-e2920dc3424e",
   "metadata": {},
   "outputs": [],
   "source": [
    "#Importamos las librerias y funciones que podamos usar sobre la marcha\n",
    "\n",
    "from sympy.core.random import random\n",
    "import numpy as np"
   ]
  },
  {
   "cell_type": "markdown",
   "id": "e5d09107-9792-4f02-b332-80b507d64cbc",
   "metadata": {},
   "source": [
    "## Definicion de funciones a usar"
   ]
  },
  {
   "cell_type": "code",
   "execution_count": 20,
   "id": "56dfc698-4853-4712-b2bd-b722d5558124",
   "metadata": {},
   "outputs": [],
   "source": [
    "def dcroc(i, j):\n",
    "    if i == j:\n",
    "        return 1\n",
    "    else:\n",
    "        return 0\n",
    "\n",
    "\n",
    "def baseRn(dim):\n",
    "    base = []\n",
    "    for i in range(1, dim + 1):\n",
    "        base.append([dcroc(j, i) for j in range(1, dim + 1)])\n",
    "    return np.array(base)\n",
    "\n",
    "\n",
    "# ADICIONAL UNA FUNCION DE TRANFORMACIÓN DE BASE\n",
    "\n",
    "def Btransform_old_new(old,new):\n",
    "    dim = len(old)\n",
    "    S = []\n",
    "    for i in range(dim):\n",
    "        S.append([(old[i].T @ new[j]).sum() for j in range(dim)])\n",
    "    S =  np.array(S)\n",
    "    return S"
   ]
  },
  {
   "cell_type": "markdown",
   "id": "0cdb50fa-3fbf-4ca8-a331-0d33eb2e580a",
   "metadata": {},
   "source": [
    "Similar al punto 1, definimos una base tridimensional"
   ]
  },
  {
   "cell_type": "code",
   "execution_count": 21,
   "id": "74a0b73b-1567-4612-996b-d927d4eb65ab",
   "metadata": {},
   "outputs": [
    {
     "name": "stdout",
     "output_type": "stream",
     "text": [
      "|u1> = \n",
      "[[1]\n",
      " [0]\n",
      " [0]]\n",
      "\n",
      "||||||\n",
      "\n",
      "|u2> = \n",
      "[[0]\n",
      " [1]\n",
      " [0]]\n",
      "\n",
      "||||||\n",
      "\n",
      "|u3> = \n",
      "[[0]\n",
      " [0]\n",
      " [1]] \n"
     ]
    }
   ],
   "source": [
    "dim = 3\n",
    "base = baseRn(dim)\n",
    "\n",
    "#Mostramos la representacion matricial de cada KET y cada BRA\n",
    "\n",
    "u1 = np.array([base[0]]).T\n",
    "u2 = np.array([base[1]]).T\n",
    "u3 = np.array([base[2]]).T\n",
    "\n",
    "print (f\"|u1> = \\n{u1}\\n\\n||||||\\n\\n|u2> = \\n{u2}\\n\\n||||||\\n\\n|u3> = \\n{u3} \")\n"
   ]
  },
  {
   "cell_type": "markdown",
   "id": "9950bcc0-dbce-4dbb-b29a-80f28406ed33",
   "metadata": {},
   "source": [
    "Y ahora la representacion de los BRAs"
   ]
  },
  {
   "cell_type": "code",
   "execution_count": 22,
   "id": "4a2e2f9c-1318-4b98-867c-5d36f4245916",
   "metadata": {},
   "outputs": [
    {
     "name": "stdout",
     "output_type": "stream",
     "text": [
      "<u1| = [[1 0 0]]\n",
      "\n",
      "||||||\n",
      "\n",
      "<u2| = [[0 1 0]]\n",
      "\n",
      "||||||\n",
      "\n",
      "<u3| = [[0 0 1]] \n"
     ]
    }
   ],
   "source": [
    "print (f\"<u1| = {u1.T}\\n\\n||||||\\n\\n<u2| = {u2.T}\\n\\n||||||\\n\\n<u3| = {u3.T} \")"
   ]
  },
  {
   "cell_type": "markdown",
   "id": "f6d6ee54-2394-4674-9a80-c7ca1153d16b",
   "metadata": {},
   "source": [
    "Similar a como se hizo en el ejercicio del punto 1, calculamos la matriz $A$ y $B$ en la base $u_{i}$"
   ]
  },
  {
   "cell_type": "code",
   "execution_count": 23,
   "id": "2fd42146-471b-4f63-8cc9-01b39de4ec74",
   "metadata": {},
   "outputs": [
    {
     "name": "stdout",
     "output_type": "stream",
     "text": [
      "A = \n",
      " [[ 1  1 -1]\n",
      " [ 1  1  1]\n",
      " [-1  1  0]]\n",
      "\n",
      "|||||||\n",
      "\n",
      "B = \n",
      " [[3 1 0]\n",
      " [1 3 0]\n",
      " [0 0 2]]\n"
     ]
    }
   ],
   "source": [
    "A = u1@u1.T + u2@u2.T + u1@u2.T + u2@u1.T + u2@u3.T + u3@u2.T - u1@u3.T - u3@u1.T\n",
    "B = 3*u1@u1.T + 3*u2@u2.T + 2*u3@u3.T + u1@u2.T + u2@u1.T\n",
    "\n",
    "print (f\"A = \\n {A}\\n\\n|||||||\\n\\nB = \\n {B}\")\n"
   ]
  },
  {
   "cell_type": "markdown",
   "id": "b7069c91-26f9-4df6-bc68-686ff580bcaf",
   "metadata": {},
   "source": [
    "Veamos de nuevo si las matrices conmutan para un vector cualquiera $Phi$"
   ]
  },
  {
   "cell_type": "code",
   "execution_count": 24,
   "id": "f50ea45c-b97c-47f9-9a0a-479a80817fd9",
   "metadata": {},
   "outputs": [
    {
     "name": "stdout",
     "output_type": "stream",
     "text": [
      "[A,B]*phi = 0.0\n"
     ]
    }
   ],
   "source": [
    "Phi = random()*u1 -random()*u2 +random()*u3\n",
    "conmut = A@B - B@A\n",
    "\n",
    "print(f\"[A,B]*phi = {(conmut@Phi).sum()}\")"
   ]
  },
  {
   "cell_type": "markdown",
   "id": "6401313e-4be4-4109-a8b4-92879b1b7e4c",
   "metadata": {},
   "source": [
    "Encontremos los autovalores y autovectores de A y B"
   ]
  },
  {
   "cell_type": "code",
   "execution_count": 25,
   "id": "4922e87f-0e17-44db-b613-d2b7f2f682a4",
   "metadata": {},
   "outputs": [
    {
     "name": "stdout",
     "output_type": "stream",
     "text": [
      "eigen values of A = [-1.414  1.414  2.   ]\n",
      "eigen vectors of A =\n",
      "[[ 0.5   -0.5   -0.707]\n",
      " [-0.5    0.5   -0.707]\n",
      " [ 0.707  0.707  0.   ]]\n",
      "\n",
      " ||||||||||||\n",
      "\n",
      "\n",
      "eigen values of B = [2. 2. 4.]\n",
      "eigen vectors of B =\n",
      " [[-0.707  0.     0.707]\n",
      " [ 0.707  0.     0.707]\n",
      " [ 0.     1.     0.   ]]\n"
     ]
    }
   ],
   "source": [
    "eigvalsA, eigvecA = np.linalg.eig(A)\n",
    "\n",
    "eigvalsA = np.round(eigvalsA,3)\n",
    "eigvecA  = np.round(eigvecA,3)\n",
    "\n",
    "#Veamos que en efecto se cumple que hayamos los autovectores con sus autovalores\n",
    "\n",
    "a1 = eigvalsA[0]\n",
    "a2 = eigvalsA[2]\n",
    "a3 = eigvalsA[1]\n",
    "\n",
    "phiA1 = np.array([(eigvecA.T)[0]]).T\n",
    "phiA2 = np.array([(eigvecA.T)[2]]).T\n",
    "phiA3 = np.array([(eigvecA.T)[1]]).T\n",
    "\n",
    "print(f\"eigen values of A = {np.array([a1,a2,a3])}\")\n",
    "\n",
    "print(f\"eigen vectors of A =\\n{np.hstack(   (   phiA1,np.column_stack((phiA2,phiA3))    )   )}\\n\\n ||||||||||||\\n\\n\")\n",
    "\n",
    "eigvalsB, eigvecB =  np.linalg.eig(B)\n",
    "\n",
    "eigvalsB = np.round(eigvalsB,3)\n",
    "eigvecB  = np.round(eigvecB,3)\n",
    "\n",
    "## Hacemos lo mismo pero para B\n",
    "\n",
    "b1 = eigvalsB[1]\n",
    "b2 = eigvalsB[2]\n",
    "b3 = eigvalsB[0]\n",
    "\n",
    "phiB1 = np.array([(eigvecB.T)[1]]).T\n",
    "phiB2 = np.array([(eigvecB.T)[2]]).T\n",
    "phiB3 = np.array([(eigvecB.T)[0]]).T\n",
    "\n",
    "print(f\"eigen values of B = {np.array([b1,b2,b3])}\")\n",
    "\n",
    "print(f\"eigen vectors of B =\\n {np.hstack(   (   phiB1,np.column_stack((phiB2,phiB3))    )   ) }\" )"
   ]
  },
  {
   "cell_type": "markdown",
   "id": "4abe1067-dfed-4510-9e25-0e3489592b79",
   "metadata": {},
   "source": [
    "Notese que se colocaron los eigenvalores y en orden de menor a mayor para asegurar de que el cambio de base resulte satisfactorio cuando intentemos hallar una base comun ortonormal de ambos operadores.\n",
    "\n",
    "**Lo que sigue es entonces representar la matriz de $\\hat{A}$ usando la base de autoestados de $\\hat{B}$, y viceversa .\n",
    "Para ello Aplicamos $A^{T} = S^{T}AS$, en donde $S$ se contruye como $<u_{i}|phiB_{j}>$ en donde $u_{i}$ es la base vieja y $phiB_{j}$\n",
    "la base nueva de autoestados de la diagonalizacion de $B$**\n",
    "\n"
   ]
  },
  {
   "cell_type": "code",
   "execution_count": 26,
   "id": "593e82dd-e224-4ffd-b9b5-298287855ecf",
   "metadata": {},
   "outputs": [
    {
     "name": "stdout",
     "output_type": "stream",
     "text": [
      "A'= \n",
      "[[0.   1.41 0.  ]\n",
      " [1.41 0.   0.  ]\n",
      " [0.   0.   2.  ]]\n",
      "\n",
      "|||||||\n",
      "\n",
      "\n",
      "B'= \n",
      "[[ 2. -0.  0.]\n",
      " [-0.  2.  0.]\n",
      " [ 0.  0.  4.]]\n"
     ]
    }
   ],
   "source": [
    "base_old = [u1,u2,u3]\n",
    "base_newfor_A = [phiB1,phiB2,phiB3]\n",
    "\n",
    "Su_B = Btransform_old_new(base_old,base_newfor_A)\n",
    "\n",
    "Aprime = Su_B.T@A@Su_B\n",
    "\n",
    "\"\"\"\n",
    "    Hacemos lo mismo para B pero usando la base de autoestados de A\n",
    "\"\"\"\n",
    "base_newfor_B = [phiA1,phiA2,phiA3]\n",
    "\n",
    "Su_A = Btransform_old_new(base_old,base_newfor_B)\n",
    "\n",
    "Bprime = Su_A.T@B@Su_A\n",
    "\n",
    "\n",
    "print (f\"A'= \\n{np.round(Aprime,2)}\\n\\n|||||||\\n\\n\")\n",
    "print (f\"B'= \\n{np.round(Bprime,2)}\")"
   ]
  },
  {
   "cell_type": "markdown",
   "id": "55f75b40-ffac-41e3-be02-6567ca188e0d",
   "metadata": {},
   "source": [
    "Como el sub-espacio de los vectores del autovalor degenerado no logran que al cambiar la base, se llegue a una matriz puramente diagonal, se busca llegar a una combinación lineal de estos vectores para que puedan ser autoestados tanto de $\\hat{B}$ como de $\\hat{A'}$ debido al teorema 4. Tomamos la matriz $A'$ y la diagonalizamos, con esto estaremos encontrando eigenvectores que coinciden con los autoestados de $\\hat{B}$"
   ]
  },
  {
   "cell_type": "code",
   "execution_count": 27,
   "id": "012569a2-4602-4d70-9be2-c19481e99444",
   "metadata": {},
   "outputs": [
    {
     "name": "stdout",
     "output_type": "stream",
     "text": [
      "eigen values of A' = [-1.41  1.41  2.  ]\n",
      "\n",
      "eigen vectors of A' = \n",
      "[[-0.71  0.71  0.  ]\n",
      " [ 0.71  0.71  0.  ]\n",
      " [ 0.    0.    1.  ]]\n"
     ]
    }
   ],
   "source": [
    "eigvalsAprime, eigvecAprime =  np.linalg.eig(Aprime)\n",
    "\n",
    "aprime1 = round(eigvalsAprime[1],2)\n",
    "aprime2 = round(eigvalsAprime[0],2)\n",
    "aprime3 = round(eigvalsAprime[2],2)\n",
    "\n",
    "phiAprime1 = np.round(np.array([(eigvecAprime.T)[1]]).T,2)\n",
    "phiAprime2 = np.round(np.array([(eigvecAprime.T)[0]]).T,2)\n",
    "phiAprime3 = np.round(np.array([(eigvecAprime.T)[2]]).T,2)\n",
    "\n",
    "print(f\"eigen values of A' = {np.array([aprime1,aprime2,aprime3])}\\n\")\n",
    "\n",
    "print(f\"eigen vectors of A' = \\n{np.hstack(   (   phiAprime1,np.column_stack((phiAprime2,phiAprime3))    )   )}\"  )\n",
    "\n"
   ]
  },
  {
   "cell_type": "markdown",
   "id": "d2faee38-f1e5-4643-91e9-a255c189feb6",
   "metadata": {},
   "source": [
    "### Logramos a partir de los autovectores de $A'$ llegar a un conjunto de autoestados que coinciden con los autoestados de $\\hat{B}$, por lo que $\\hat{A'}$ pasa a ser un nuevo operador con autoestados comunes de $\\hat{B}$."
   ]
  }
 ],
 "metadata": {
  "kernelspec": {
   "display_name": "Python 3 (ipykernel)",
   "language": "python",
   "name": "python3"
  },
  "language_info": {
   "codemirror_mode": {
    "name": "ipython",
    "version": 3
   },
   "file_extension": ".py",
   "mimetype": "text/x-python",
   "name": "python",
   "nbconvert_exporter": "python",
   "pygments_lexer": "ipython3",
   "version": "3.13.5"
  }
 },
 "nbformat": 4,
 "nbformat_minor": 5
}
