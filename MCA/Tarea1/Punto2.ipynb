{
 "cells": [
  {
   "cell_type": "code",
   "execution_count": null,
   "id": "d953fe94-7331-4884-a66f-5c17dcb02d4e",
   "metadata": {},
   "outputs": [],
   "source": []
  }
 ],
 "metadata": {
  "kernelspec": {
   "display_name": "",
   "name": ""
  },
  "language_info": {
   "name": ""
  }
 },
 "nbformat": 4,
 "nbformat_minor": 5
}
