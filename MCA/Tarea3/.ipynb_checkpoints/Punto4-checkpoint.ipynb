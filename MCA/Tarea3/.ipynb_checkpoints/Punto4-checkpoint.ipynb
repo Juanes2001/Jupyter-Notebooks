{
 "cells": [
  {
   "cell_type": "markdown",
   "id": "10bee497-4b31-4302-b0f1-a209e37bfb11",
   "metadata": {},
   "source": [
    "# 3. \n",
    "## Encuentre la evolución temporal de un paquete de ondas en un potencial armónico.\n",
    "\n",
    "Para distintos potenciales se puede usar el mismo metodo de funciones DVR para computar la evolucion temporal de una particula en distintos potenciales. Por lo que aplicaremos exatamente el mismo codigo del punto 2 pero agregando el potencial armónico."
   ]
  },
  {
   "cell_type": "code",
   "execution_count": 26,
   "id": "c439fbd7-b525-4c6d-a514-7341bbfc50b5",
   "metadata": {},
   "outputs": [],
   "source": [
    "#Importamos librerías\n",
    "import math\n",
    "import numpy as np\n",
    "import matplotlib.pyplot as plt\n",
    "import matplotlib.animation as animation\n",
    "from scipy import integrate\n",
    "from IPython.display import HTML"
   ]
  },
  {
   "cell_type": "markdown",
   "id": "1839a9ac-888d-4928-8b0f-77bfbeba15a0",
   "metadata": {},
   "source": [
    "## Funciones a usar"
   ]
  },
  {
   "cell_type": "code",
   "execution_count": 27,
   "id": "146a036e-d9b2-4a97-916f-644e8986f6bc",
   "metadata": {},
   "outputs": [],
   "source": [
    "#Funciones DVR\n",
    "def f(x,n):\n",
    "    fun_DVR = np.zeros(Nf)\n",
    "    for k in range(Nf):\n",
    "        fun_DVR = fun_DVR + (2/math.sqrt(L*(Nf+1)) * np.sin(((k+1)*math.pi*x)/L)*np.sin(((k+1)*n*math.pi)/(Nf+1)))\n",
    "    return fun_DVR\n",
    "\n",
    "#Definicion del paquete de ondas inicial.\n",
    "def Psi_0_Gauss(x):\n",
    "    gauss = np.exp(-(x-x0)**2/(2*sigma) + 1j*p0*x/hbar  )\n",
    "    return gauss\n",
    "\n",
    "#Solución analítica de la energía cinética en la base DVR\n",
    "def  fiddfj(i,j):\n",
    "    fiddfj_num = 0\n",
    "    for k in range(Nf):\n",
    "        fiddfj_num = fiddfj_num - 2*(math.pi)**2/((Nf+1)*L**2) \\\n",
    "                      * (k**2 * np.sin( i*k*math.pi/(Nf+1) )*np.sin(j*k*math.pi/(Nf+1) ) )\n",
    "    return fiddfj_num\n",
    "\n",
    "#Función de onda propagada para distintos paquetes de onda inicial.\n",
    "def Psi_Gauss(tt):\n",
    "    Psi = np.zeros(Nf)\n",
    "    for l in range(Nf):\n",
    "        Psi = Psi + cn_aproxx_Gauss[l]*(phin[:,l:l+1].T)[0]*np.exp(-1j*En[l]*(tt-t0))\n",
    "    return Psi\n",
    "\n",
    "\n",
    "#función de estado inicial de la animación\n",
    "def init():\n",
    "    line_module_Gauss.set_data([],[])           \n",
    "    frame_text1.set_text('')\n",
    "    return line_module_Gauss, frame_text1\n",
    "\n",
    "#Función en la que vemos propagandose la función de onda.\n",
    "def animate(frames):\n",
    "    tt = (frames+1) * 0.009\n",
    "    y1 = Psi_Gauss(tt) \n",
    "\n",
    "    line_module_Gauss.set_data(xvals, np.abs(y1)**2) \n",
    "    \n",
    "    frame_text1.set_text(f\"{frames}\")\n",
    "    return line_module_Gauss, frame_text1\n",
    "\n",
    "#Funcion producto punto entre funciones y vectores.\n",
    "def dot(dom,fun1,fun2):\n",
    "    if sum(dom) != 0:\n",
    "        inte = integrate.simpson(fun1*fun2,dom)\n",
    "        return inte\n",
    "    else:\n",
    "        # SI estamos aqui es porque fun1 y fun2 se tratan de vectores\n",
    "        dot_prod = np.sum(fun1*fun2)\n",
    "        return dot_prod"
   ]
  },
  {
   "cell_type": "markdown",
   "id": "a01fd4b1-7afd-4307-aeaa-1fc85796a52c",
   "metadata": {},
   "source": [
    "__Definición de parametros__"
   ]
  },
  {
   "cell_type": "code",
   "execution_count": 28,
   "id": "00d5676a-cf5c-43d7-9a3e-1cb43f33e292",
   "metadata": {},
   "outputs": [],
   "source": [
    "L = 20\n",
    "Nf = 250\n",
    "x0 = L/2-3\n",
    "t0 = 0\n",
    "p0 = 3\n",
    "\n",
    "hbar = 1\n",
    "me = 1\n",
    "sigma = 0.4\n",
    "\n",
    "xvals = np.linspace(0,L,Nf)"
   ]
  },
  {
   "cell_type": "markdown",
   "id": "9c76346f-0497-4a53-8935-bc7902b070a7",
   "metadata": {},
   "source": [
    "__Definimos el desarrollo de la funcion de onda inicial en terminos de funciones DVR__"
   ]
  },
  {
   "cell_type": "code",
   "execution_count": 29,
   "id": "dd59c0d0-507c-489e-b9b2-85828b5cbf2c",
   "metadata": {},
   "outputs": [
    {
     "data": {
      "text/plain": [
       "<matplotlib.legend.Legend at 0x1b7d5502490>"
      ]
     },
     "execution_count": 29,
     "metadata": {},
     "output_type": "execute_result"
    },
    {
     "data": {
      "image/png": "[encoded data removed]",
      "text/plain": [
       "<Figure size 1000x400 with 1 Axes>"
      ]
     },
     "metadata": {},
     "output_type": "display_data"
    }
   ],
   "source": [
    "Ideal_Gauss = []\n",
    "\n",
    "\n",
    "for i in range(1,Nf+1):\n",
    "    Ideal_Gauss.append(math.sqrt(L/(Nf+1))*Psi_0_Gauss(i*L/(Nf+1)))\n",
    "\n",
    "\n",
    "Ideal_Gauss = np.array(Ideal_Gauss)\n",
    "phi_0_Gauss_IdealConsts =np.zeros(Nf)\n",
    "\n",
    "\n",
    "for i in range(1,Nf+1):\n",
    "    phi_0_Gauss_IdealConsts = phi_0_Gauss_IdealConsts + Ideal_Gauss[i-1]*f(xvals,i)\n",
    "\n",
    "fig1,ax1, = plt.subplots(figsize=(10, 4))\n",
    "ax1.set_xlim(0,L)\n",
    "ax1.set_ylim(-1,4)\n",
    "\n",
    "ax1.plot(xvals,np.abs(phi_0_Gauss_IdealConsts)+1,label = f\"Ideal DVR $|\\Psi_0|$\")\n",
    "ax1.grid(True)             \n",
    "ax1.legend() "
   ]
  },
  {
   "cell_type": "markdown",
   "id": "4b55ecd6-5bdb-4002-871f-e4b2d6980973",
   "metadata": {},
   "source": [
    "Ahora definimos el Hamiltoniano. La ventaja que tiene el desarrollo de funciones DVR es su facilidad de cambio de casos para distintos potenciales estacionarios. por lo que solo basta agregar en la diagonal principal el potencial evaluado para cada punto DVR."
   ]
  },
  {
   "cell_type": "code",
   "execution_count": 30,
   "id": "02daee6c-1621-4a62-90e6-1bc20a286179",
   "metadata": {},
   "outputs": [],
   "source": [
    "H = np.zeros((Nf,Nf))\n",
    "\n",
    "for l in range(Nf):\n",
    "    for m in range(Nf):\n",
    "        H[l,m] = - hbar**2/(2*me) * fiddfj(l+1,m+1) + V(l,m)"
   ]
  },
  {
   "cell_type": "markdown",
   "id": "15b862a9-ddb4-4679-9a4f-727e2635ef04",
   "metadata": {},
   "source": [
    "Diagonalizamos para hallar los auto valores (Energias) y los autovectores."
   ]
  },
  {
   "cell_type": "code",
   "execution_count": 31,
   "id": "fe15ee7c-77d0-444b-93b4-69a01efcd02a",
   "metadata": {},
   "outputs": [],
   "source": [
    "En, bn = np.linalg.eig(H)\n",
    "En = np.round(En,5)\n",
    "\n",
    "idx = np.argsort(En)          \n",
    "En = En[idx]                \n",
    "bn = bn[:, idx]"
   ]
  },
  {
   "cell_type": "markdown",
   "id": "2a957bd8-774e-48e5-87ef-02245cf1e992",
   "metadata": {},
   "source": [
    "__Teniendo las energias y los autovectores desarrollamos entonces la evolucion temporal buscando los autoestados y las constantes de probabilidad $C_{n}$__"
   ]
  },
  {
   "cell_type": "code",
   "execution_count": 32,
   "id": "f4d1da25-e112-461d-8ee8-45e31ad932d0",
   "metadata": {},
   "outputs": [],
   "source": [
    "phin = np.zeros((Nf,Nf))\n",
    "\n",
    "for l in range(Nf):\n",
    "    phinp = np.zeros((Nf,1))\n",
    "    for m in range(Nf):\n",
    "        phinp = phinp + bn[m,l]*np.array([f(xvals,m+1)]).T\n",
    "    phin[:,l:l+1] = phinp/math.sqrt(dot(xvals,(phinp.T)[0],(phinp.T)[0]))\n",
    "\n",
    "\n",
    "cn_Ideal_Gauss = []\n",
    "\n",
    "for l in range(Nf): \n",
    "    cn_Ideal_Gauss.append(sum((bn[:,l:l+1].T)[0]*Ideal_Gauss))\n",
    " \n",
    "cn_Ideal_Gauss = np.array(cn_Ideal_Gauss)\n",
    "\n",
    "cn_Ideal_Gauss = cn_Ideal_Gauss/np.linalg.norm(cn_Ideal_Gauss)**2"
   ]
  },
  {
   "cell_type": "markdown",
   "id": "d1df4ee1-e59c-43e2-b917-d9e71f55e1b2",
   "metadata": {},
   "source": [
    "__Ya con esto estamos listos para simular__"
   ]
  },
  {
   "cell_type": "code",
   "execution_count": 33,
   "id": "766089a1-f660-4237-85e7-8b0c92db5ac9",
   "metadata": {},
   "outputs": [
    {
     "ename": "NameError",
     "evalue": "name 'cn_aproxx_Gauss' is not defined",
     "output_type": "error",
     "traceback": [
      "\u001b[1;31m---------------------------------------------------------------------------\u001b[0m",
      "\u001b[1;31mNameError\u001b[0m                                 Traceback (most recent call last)",
      "Cell \u001b[1;32mIn[33], line 14\u001b[0m\n\u001b[0;32m     11\u001b[0m ani \u001b[38;5;241m=\u001b[39m animation\u001b[38;5;241m.\u001b[39mFuncAnimation(fig2, animate,init_func\u001b[38;5;241m=\u001b[39minit, frames\u001b[38;5;241m=\u001b[39m\u001b[38;5;241m304\u001b[39m, interval\u001b[38;5;241m=\u001b[39m\u001b[38;5;241m70\u001b[39m, blit\u001b[38;5;241m=\u001b[39m\u001b[38;5;28;01mTrue\u001b[39;00m)\n\u001b[0;32m     13\u001b[0m plt\u001b[38;5;241m.\u001b[39mclose(fig2)  \n\u001b[1;32m---> 14\u001b[0m HTML(ani\u001b[38;5;241m.\u001b[39mto_jshtml())\n",
      "File \u001b[1;32m~\\anaconda3\\Lib\\site-packages\\matplotlib\\animation.py:1376\u001b[0m, in \u001b[0;36mAnimation.to_jshtml\u001b[1;34m(self, fps, embed_frames, default_mode)\u001b[0m\n\u001b[0;32m   1372\u001b[0m         path \u001b[38;5;241m=\u001b[39m Path(tmpdir, \u001b[38;5;124m\"\u001b[39m\u001b[38;5;124mtemp.html\u001b[39m\u001b[38;5;124m\"\u001b[39m)\n\u001b[0;32m   1373\u001b[0m         writer \u001b[38;5;241m=\u001b[39m HTMLWriter(fps\u001b[38;5;241m=\u001b[39mfps,\n\u001b[0;32m   1374\u001b[0m                             embed_frames\u001b[38;5;241m=\u001b[39membed_frames,\n\u001b[0;32m   1375\u001b[0m                             default_mode\u001b[38;5;241m=\u001b[39mdefault_mode)\n\u001b[1;32m-> 1376\u001b[0m         \u001b[38;5;28mself\u001b[39m\u001b[38;5;241m.\u001b[39msave(\u001b[38;5;28mstr\u001b[39m(path), writer\u001b[38;5;241m=\u001b[39mwriter)\n\u001b[0;32m   1377\u001b[0m         \u001b[38;5;28mself\u001b[39m\u001b[38;5;241m.\u001b[39m_html_representation \u001b[38;5;241m=\u001b[39m path\u001b[38;5;241m.\u001b[39mread_text()\n\u001b[0;32m   1379\u001b[0m \u001b[38;5;28;01mreturn\u001b[39;00m \u001b[38;5;28mself\u001b[39m\u001b[38;5;241m.\u001b[39m_html_representation\n",
      "File \u001b[1;32m~\\anaconda3\\Lib\\site-packages\\matplotlib\\animation.py:1122\u001b[0m, in \u001b[0;36mAnimation.save\u001b[1;34m(self, filename, writer, fps, dpi, codec, bitrate, extra_args, metadata, extra_anim, savefig_kwargs, progress_callback)\u001b[0m\n\u001b[0;32m   1119\u001b[0m \u001b[38;5;28;01mfor\u001b[39;00m data \u001b[38;5;129;01min\u001b[39;00m \u001b[38;5;28mzip\u001b[39m(\u001b[38;5;241m*\u001b[39m[a\u001b[38;5;241m.\u001b[39mnew_saved_frame_seq() \u001b[38;5;28;01mfor\u001b[39;00m a \u001b[38;5;129;01min\u001b[39;00m all_anim]):\n\u001b[0;32m   1120\u001b[0m     \u001b[38;5;28;01mfor\u001b[39;00m anim, d \u001b[38;5;129;01min\u001b[39;00m \u001b[38;5;28mzip\u001b[39m(all_anim, data):\n\u001b[0;32m   1121\u001b[0m         \u001b[38;5;66;03m# TODO: See if turning off blit is really necessary\u001b[39;00m\n\u001b[1;32m-> 1122\u001b[0m         anim\u001b[38;5;241m.\u001b[39m_draw_next_frame(d, blit\u001b[38;5;241m=\u001b[39m\u001b[38;5;28;01mFalse\u001b[39;00m)\n\u001b[0;32m   1123\u001b[0m         \u001b[38;5;28;01mif\u001b[39;00m progress_callback \u001b[38;5;129;01mis\u001b[39;00m \u001b[38;5;129;01mnot\u001b[39;00m \u001b[38;5;28;01mNone\u001b[39;00m:\n\u001b[0;32m   1124\u001b[0m             progress_callback(frame_number, total_frames)\n",
      "File \u001b[1;32m~\\anaconda3\\Lib\\site-packages\\matplotlib\\animation.py:1157\u001b[0m, in \u001b[0;36mAnimation._draw_next_frame\u001b[1;34m(self, framedata, blit)\u001b[0m\n\u001b[0;32m   1153\u001b[0m \u001b[38;5;28;01mdef\u001b[39;00m\u001b[38;5;250m \u001b[39m\u001b[38;5;21m_draw_next_frame\u001b[39m(\u001b[38;5;28mself\u001b[39m, framedata, blit):\n\u001b[0;32m   1154\u001b[0m     \u001b[38;5;66;03m# Breaks down the drawing of the next frame into steps of pre- and\u001b[39;00m\n\u001b[0;32m   1155\u001b[0m     \u001b[38;5;66;03m# post- draw, as well as the drawing of the frame itself.\u001b[39;00m\n\u001b[0;32m   1156\u001b[0m     \u001b[38;5;28mself\u001b[39m\u001b[38;5;241m.\u001b[39m_pre_draw(framedata, blit)\n\u001b[1;32m-> 1157\u001b[0m     \u001b[38;5;28mself\u001b[39m\u001b[38;5;241m.\u001b[39m_draw_frame(framedata)\n\u001b[0;32m   1158\u001b[0m     \u001b[38;5;28mself\u001b[39m\u001b[38;5;241m.\u001b[39m_post_draw(framedata, blit)\n",
      "File \u001b[1;32m~\\anaconda3\\Lib\\site-packages\\matplotlib\\animation.py:1789\u001b[0m, in \u001b[0;36mFuncAnimation._draw_frame\u001b[1;34m(self, framedata)\u001b[0m\n\u001b[0;32m   1785\u001b[0m     \u001b[38;5;28mself\u001b[39m\u001b[38;5;241m.\u001b[39m_save_seq \u001b[38;5;241m=\u001b[39m \u001b[38;5;28mself\u001b[39m\u001b[38;5;241m.\u001b[39m_save_seq[\u001b[38;5;241m-\u001b[39m\u001b[38;5;28mself\u001b[39m\u001b[38;5;241m.\u001b[39m_save_count:]\n\u001b[0;32m   1787\u001b[0m \u001b[38;5;66;03m# Call the func with framedata and args. If blitting is desired,\u001b[39;00m\n\u001b[0;32m   1788\u001b[0m \u001b[38;5;66;03m# func needs to return a sequence of any artists that were modified.\u001b[39;00m\n\u001b[1;32m-> 1789\u001b[0m \u001b[38;5;28mself\u001b[39m\u001b[38;5;241m.\u001b[39m_drawn_artists \u001b[38;5;241m=\u001b[39m \u001b[38;5;28mself\u001b[39m\u001b[38;5;241m.\u001b[39m_func(framedata, \u001b[38;5;241m*\u001b[39m\u001b[38;5;28mself\u001b[39m\u001b[38;5;241m.\u001b[39m_args)\n\u001b[0;32m   1791\u001b[0m \u001b[38;5;28;01mif\u001b[39;00m \u001b[38;5;28mself\u001b[39m\u001b[38;5;241m.\u001b[39m_blit:\n\u001b[0;32m   1793\u001b[0m     err \u001b[38;5;241m=\u001b[39m \u001b[38;5;167;01mRuntimeError\u001b[39;00m(\u001b[38;5;124m'\u001b[39m\u001b[38;5;124mThe animation function must return a sequence \u001b[39m\u001b[38;5;124m'\u001b[39m\n\u001b[0;32m   1794\u001b[0m                        \u001b[38;5;124m'\u001b[39m\u001b[38;5;124mof Artist objects.\u001b[39m\u001b[38;5;124m'\u001b[39m)\n",
      "Cell \u001b[1;32mIn[27], line 38\u001b[0m, in \u001b[0;36manimate\u001b[1;34m(frames)\u001b[0m\n\u001b[0;32m     36\u001b[0m \u001b[38;5;28;01mdef\u001b[39;00m\u001b[38;5;250m \u001b[39m\u001b[38;5;21manimate\u001b[39m(frames):\n\u001b[0;32m     37\u001b[0m     tt \u001b[38;5;241m=\u001b[39m (frames\u001b[38;5;241m+\u001b[39m\u001b[38;5;241m1\u001b[39m) \u001b[38;5;241m*\u001b[39m \u001b[38;5;241m0.009\u001b[39m\n\u001b[1;32m---> 38\u001b[0m     y1 \u001b[38;5;241m=\u001b[39m Psi_Gauss(tt) \n\u001b[0;32m     40\u001b[0m     line_module_Gauss\u001b[38;5;241m.\u001b[39mset_data(xvals, np\u001b[38;5;241m.\u001b[39mabs(y1)\u001b[38;5;241m*\u001b[39m\u001b[38;5;241m*\u001b[39m\u001b[38;5;241m2\u001b[39m) \n\u001b[0;32m     42\u001b[0m     frame_text1\u001b[38;5;241m.\u001b[39mset_text(\u001b[38;5;124mf\u001b[39m\u001b[38;5;124m\"\u001b[39m\u001b[38;5;132;01m{\u001b[39;00mframes\u001b[38;5;132;01m}\u001b[39;00m\u001b[38;5;124m\"\u001b[39m)\n",
      "Cell \u001b[1;32mIn[27], line 25\u001b[0m, in \u001b[0;36mPsi_Gauss\u001b[1;34m(tt)\u001b[0m\n\u001b[0;32m     23\u001b[0m Psi \u001b[38;5;241m=\u001b[39m np\u001b[38;5;241m.\u001b[39mzeros(Nf)\n\u001b[0;32m     24\u001b[0m \u001b[38;5;28;01mfor\u001b[39;00m l \u001b[38;5;129;01min\u001b[39;00m \u001b[38;5;28mrange\u001b[39m(Nf):\n\u001b[1;32m---> 25\u001b[0m     Psi \u001b[38;5;241m=\u001b[39m Psi \u001b[38;5;241m+\u001b[39m cn_aproxx_Gauss[l]\u001b[38;5;241m*\u001b[39m(phin[:,l:l\u001b[38;5;241m+\u001b[39m\u001b[38;5;241m1\u001b[39m]\u001b[38;5;241m.\u001b[39mT)[\u001b[38;5;241m0\u001b[39m]\u001b[38;5;241m*\u001b[39mnp\u001b[38;5;241m.\u001b[39mexp(\u001b[38;5;241m-\u001b[39m\u001b[38;5;241m1\u001b[39mj\u001b[38;5;241m*\u001b[39mEn[l]\u001b[38;5;241m*\u001b[39m(tt\u001b[38;5;241m-\u001b[39mt0))\n\u001b[0;32m     26\u001b[0m \u001b[38;5;28;01mreturn\u001b[39;00m Psi\n",
      "\u001b[1;31mNameError\u001b[0m: name 'cn_aproxx_Gauss' is not defined"
     ]
    }
   ],
   "source": [
    "fig2,ax2 = plt.subplots(figsize=(10, 4))\n",
    "ax2.set_xlim(0, L)\n",
    "ax2.set_ylim(-0.3, 5)\n",
    "\n",
    "line_module_Gauss, = ax2.plot([], [], lw=2, color = 'blue',label= \"Ideal\")\n",
    "ax2.grid(True)             \n",
    "ax2.legend()\n",
    "\n",
    "frame_text1 = ax2.text(0.02, 0.9, '', transform=ax2.transAxes, fontsize=12, color='red')\n",
    "\n",
    "ani = animation.FuncAnimation(fig2, animate,init_func=init, frames=304, interval=70, blit=True)\n",
    "\n",
    "plt.close(fig2)  \n",
    "HTML(ani.to_jshtml())\n"
   ]
  },
  {
   "cell_type": "code",
   "execution_count": null,
   "id": "bce7cd24-57ea-48f3-829c-75c4b8b5a3fc",
   "metadata": {},
   "outputs": [],
   "source": []
  },
  {
   "cell_type": "code",
   "execution_count": null,
   "id": "d8c211f2-3ca4-4fc6-bc5f-f267bb8ed8b8",
   "metadata": {},
   "outputs": [],
   "source": []
  },
  {
   "cell_type": "code",
   "execution_count": null,
   "id": "b1d5ed70-273c-48cf-82d8-c11d423a4345",
   "metadata": {},
   "outputs": [],
   "source": []
  }
 ],
 "metadata": {
  "kernelspec": {
   "display_name": "Python [conda env:base] *",
   "language": "python",
   "name": "conda-base-py"
  },
  "language_info": {
   "codemirror_mode": {
    "name": "ipython",
    "version": 3
   },
   "file_extension": ".py",
   "mimetype": "text/x-python",
   "name": "python",
   "nbconvert_exporter": "python",
   "pygments_lexer": "ipython3",
   "version": "3.13.5"
  }
 },
 "nbformat": 4,
 "nbformat_minor": 5
}
